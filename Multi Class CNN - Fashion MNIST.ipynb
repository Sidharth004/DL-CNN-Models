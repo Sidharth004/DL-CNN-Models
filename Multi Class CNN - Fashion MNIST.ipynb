{
 "cells": [
  {
   "cell_type": "code",
   "execution_count": 1,
   "id": "a432f125",
   "metadata": {},
   "outputs": [],
   "source": [
    "#FASHION MNIST PRACTISE2\n",
    "#preloaded"
   ]
  },
  {
   "cell_type": "code",
   "execution_count": 1,
   "id": "8a5ed301",
   "metadata": {},
   "outputs": [],
   "source": [
    "#IMPORT STUFF\n",
    "\n",
    "import pandas as pd\n",
    "import tensorflow as tf\n",
    "import numpy as np\n",
    "import matplotlib.pyplot as plt\n",
    "%matplotlib inline\n",
    "from tensorflow import keras\n"
   ]
  },
  {
   "cell_type": "code",
   "execution_count": 2,
   "id": "a824c8cb",
   "metadata": {},
   "outputs": [],
   "source": [
    "#load the dataset\n",
    "dataset = tf.keras.datasets.fashion_mnist\n",
    "\n",
    "(x_train,y_train),(x_test,y_test) = dataset.load_data()"
   ]
  },
  {
   "cell_type": "code",
   "execution_count": 3,
   "id": "cd83ffb6",
   "metadata": {},
   "outputs": [
    {
     "data": {
      "text/plain": [
       "<matplotlib.image.AxesImage at 0x1e6c1e6b700>"
      ]
     },
     "execution_count": 3,
     "metadata": {},
     "output_type": "execute_result"
    },
    {
     "data": {
      "image/png": "[encoded data removed]",
      "text/plain": [
       "<Figure size 432x288 with 1 Axes>"
      ]
     },
     "metadata": {
      "needs_background": "light"
     },
     "output_type": "display_data"
    }
   ],
   "source": [
    "plt.imshow(x_train[0])"
   ]
  },
  {
   "cell_type": "code",
   "execution_count": 4,
   "id": "7d10fbfc",
   "metadata": {},
   "outputs": [],
   "source": [
    "labels=['Trouser','Pullover','Dress','Coat','Snadal','Shirt','Snealer']"
   ]
  },
  {
   "cell_type": "code",
   "execution_count": 5,
   "id": "198fd30c",
   "metadata": {},
   "outputs": [
    {
     "data": {
      "text/plain": [
       "['Trouser', 'Pullover', 'Dress', 'Coat', 'Snadal', 'Shirt', 'Snealer']"
      ]
     },
     "execution_count": 5,
     "metadata": {},
     "output_type": "execute_result"
    }
   ],
   "source": [
    "labels"
   ]
  },
  {
   "cell_type": "code",
   "execution_count": 6,
   "id": "052a4e26",
   "metadata": {},
   "outputs": [],
   "source": [
    "#normLize data\n",
    "x_train=x_train/255\n",
    "x_test=x_test/255"
   ]
  },
  {
   "cell_type": "code",
   "execution_count": 7,
   "id": "2443690e",
   "metadata": {},
   "outputs": [],
   "source": [
    "#reshape data\n",
    "x_train=np.expand_dims(x_train,-1)"
   ]
  },
  {
   "cell_type": "code",
   "execution_count": 8,
   "id": "67e8c8d8",
   "metadata": {},
   "outputs": [
    {
     "data": {
      "text/plain": [
       "4"
      ]
     },
     "execution_count": 8,
     "metadata": {},
     "output_type": "execute_result"
    }
   ],
   "source": [
    "x_train.ndim"
   ]
  },
  {
   "cell_type": "code",
   "execution_count": 9,
   "id": "91ade252",
   "metadata": {},
   "outputs": [],
   "source": [
    "x_test=np.expand_dims(x_test,-1)"
   ]
  },
  {
   "cell_type": "code",
   "execution_count": 10,
   "id": "0e828380",
   "metadata": {},
   "outputs": [
    {
     "data": {
      "text/plain": [
       "4"
      ]
     },
     "execution_count": 10,
     "metadata": {},
     "output_type": "execute_result"
    }
   ],
   "source": [
    "x_test.ndim"
   ]
  },
  {
   "cell_type": "code",
   "execution_count": 11,
   "id": "a6651f89",
   "metadata": {},
   "outputs": [],
   "source": [
    "#TRAIN TEST SPLIT\n",
    "\n",
    "from sklearn.model_selection import train_test_split\n",
    "\n",
    "x_train,x_validate,y_train,y_valdiate = train_test_split(x_train,y_train)"
   ]
  },
  {
   "cell_type": "code",
   "execution_count": 12,
   "id": "6396d54d",
   "metadata": {},
   "outputs": [],
   "source": [
    "#prpare the model\n",
    "\n",
    "model = keras.Sequential([\n",
    "    keras.layers.Conv2D(filters=32,kernel_size=2,strides=(2,2),padding='valid',input_shape=(28,28,1), activation='relu'),\n",
    "    keras.layers.MaxPooling2D((2,2)),\n",
    "    keras.layers.Conv2D(filters=64,kernel_size=1,strides=(1,1),padding='same',activation='relu'),\n",
    "    keras.layers.MaxPooling2D((2,2)),\n",
    "    keras.layers.Flatten(),\n",
    "    keras.layers.Dense(128,activation='relu'),\n",
    "    keras.layers.Dropout(0.2),\n",
    "    keras.layers.Dense(64,activation='relu'),\n",
    "    keras.layers.Dropout(0.12),\n",
    "    keras.layers.Dense(32,activation='softmax'),\n",
    "                        \n",
    "])\n",
    "#2D (())\n",
    "#(28,28,1)\n",
    "#softmax\n",
    "#filters,kernelsize,strides"
   ]
  },
  {
   "cell_type": "code",
   "execution_count": 13,
   "id": "79ba6213",
   "metadata": {},
   "outputs": [],
   "source": [
    "model.compile(optimizer='adam',loss='sparse_categorical_crossentropy',metrics=['accuracy'])"
   ]
  },
  {
   "cell_type": "code",
   "execution_count": 14,
   "id": "88100d77",
   "metadata": {},
   "outputs": [
    {
     "name": "stdout",
     "output_type": "stream",
     "text": [
      "Epoch 1/10\n",
      "450/450 [==============================] - 16s 31ms/step - loss: 1.0262 - accuracy: 0.6204 - val_loss: 0.5935 - val_accuracy: 0.7764\n",
      "Epoch 2/10\n",
      "450/450 [==============================] - 15s 33ms/step - loss: 0.5852 - accuracy: 0.7793 - val_loss: 0.5026 - val_accuracy: 0.8180\n",
      "Epoch 3/10\n",
      "450/450 [==============================] - 14s 32ms/step - loss: 0.5172 - accuracy: 0.8067 - val_loss: 0.4646 - val_accuracy: 0.8271\n",
      "Epoch 4/10\n",
      "450/450 [==============================] - 15s 33ms/step - loss: 0.4795 - accuracy: 0.8221 - val_loss: 0.4434 - val_accuracy: 0.8360\n",
      "Epoch 5/10\n",
      "450/450 [==============================] - 15s 34ms/step - loss: 0.4530 - accuracy: 0.8318 - val_loss: 0.4238 - val_accuracy: 0.8461\n",
      "Epoch 6/10\n",
      "450/450 [==============================] - 14s 31ms/step - loss: 0.4337 - accuracy: 0.8390 - val_loss: 0.4129 - val_accuracy: 0.8467\n",
      "Epoch 7/10\n",
      "450/450 [==============================] - 16s 36ms/step - loss: 0.4150 - accuracy: 0.8462 - val_loss: 0.3904 - val_accuracy: 0.8551\n",
      "Epoch 8/10\n",
      "450/450 [==============================] - 16s 36ms/step - loss: 0.4003 - accuracy: 0.8510 - val_loss: 0.3983 - val_accuracy: 0.8515\n",
      "Epoch 9/10\n",
      "450/450 [==============================] - 16s 35ms/step - loss: 0.3817 - accuracy: 0.8567 - val_loss: 0.3709 - val_accuracy: 0.8633\n",
      "Epoch 10/10\n",
      "450/450 [==============================] - 14s 31ms/step - loss: 0.3757 - accuracy: 0.8593 - val_loss: 0.3683 - val_accuracy: 0.8629\n"
     ]
    },
    {
     "data": {
      "text/plain": [
       "<keras.src.callbacks.History at 0x1e6bf652820>"
      ]
     },
     "execution_count": 14,
     "metadata": {},
     "output_type": "execute_result"
    }
   ],
   "source": [
    "model.fit(x_train,y_train,batch_size=100,validation_data=(x_validate,y_valdiate),epochs=10)\n",
    "#batch_size\n",
    "#validation_data=() || (not validation_split=(0.2))"
   ]
  },
  {
   "cell_type": "code",
   "execution_count": 15,
   "id": "4d543bc2",
   "metadata": {},
   "outputs": [
    {
     "name": "stdout",
     "output_type": "stream",
     "text": [
      "313/313 [==============================] - 2s 6ms/step - loss: 0.3838 - accuracy: 0.8579\n"
     ]
    },
    {
     "data": {
      "text/plain": [
       "[0.3837578296661377, 0.8579000234603882]"
      ]
     },
     "execution_count": 15,
     "metadata": {},
     "output_type": "execute_result"
    }
   ],
   "source": [
    "#model evaluate\n",
    "model.evaluate(x_test,y_test)\n"
   ]
  },
  {
   "cell_type": "code",
   "execution_count": 16,
   "id": "ad37c21e",
   "metadata": {},
   "outputs": [
    {
     "name": "stdout",
     "output_type": "stream",
     "text": [
      "313/313 [==============================] - 2s 6ms/step\n"
     ]
    }
   ],
   "source": [
    "#model prediction\n",
    "y_pred = model.predict(x_test)"
   ]
  },
  {
   "cell_type": "code",
   "execution_count": 20,
   "id": "e6197053",
   "metadata": {},
   "outputs": [
    {
     "name": "stdout",
     "output_type": "stream",
     "text": [
      "313/313 [==============================] - 2s 6ms/step\n",
      "class is 7\n"
     ]
    },
    {
     "ename": "IndexError",
     "evalue": "Replacement index 1 out of range for positional args tuple",
     "output_type": "error",
     "traceback": [
      "\u001b[1;31m---------------------------------------------------------------------------\u001b[0m",
      "\u001b[1;31mIndexError\u001b[0m                                Traceback (most recent call last)",
      "Input \u001b[1;32mIn [20]\u001b[0m, in \u001b[0;36m<cell line: 7>\u001b[1;34m()\u001b[0m\n\u001b[0;32m      5\u001b[0m ans \u001b[38;5;241m=\u001b[39m model\u001b[38;5;241m.\u001b[39mpredict(x_test)\n\u001b[0;32m      6\u001b[0m \u001b[38;5;28mprint\u001b[39m(\u001b[38;5;124m'\u001b[39m\u001b[38;5;124mclass is\u001b[39m\u001b[38;5;124m'\u001b[39m,np\u001b[38;5;241m.\u001b[39margmax(ans[r]))\n\u001b[1;32m----> 7\u001b[0m plt\u001b[38;5;241m.\u001b[39mtitle(\u001b[38;5;124;43m'\u001b[39;49m\u001b[38;5;132;43;01m{}\u001b[39;49;00m\u001b[38;5;124;43m / \u001b[39;49m\u001b[38;5;132;43;01m{}\u001b[39;49;00m\u001b[38;5;124;43m'\u001b[39;49m\u001b[38;5;241;43m.\u001b[39;49m\u001b[43mformat\u001b[49m\u001b[43m(\u001b[49m\u001b[43mlabels\u001b[49m\u001b[43m[\u001b[49m\u001b[43my_train\u001b[49m\u001b[43m[\u001b[49m\u001b[43mr\u001b[49m\u001b[43m]\u001b[49m\u001b[43m]\u001b[49m\u001b[43m)\u001b[49m,y_train[r])\n",
      "\u001b[1;31mIndexError\u001b[0m: Replacement index 1 out of range for positional args tuple"
     ]
    },
    {
     "data": {
      "image/png": "[encoded data removed]",
      "text/plain": [
       "<Figure size 432x288 with 1 Axes>"
      ]
     },
     "metadata": {
      "needs_background": "light"
     },
     "output_type": "display_data"
    }
   ],
   "source": [
    "import random\n",
    "\n",
    "r = random.randint(0,100)\n",
    "plt.imshow(x_test[r])\n",
    "ans = model.predict(x_test)\n",
    "print('class is',np.argmax(ans[r]))\n",
    "plt.title('{} / {}'.format(labels[y_train[r]]),y_train[r])\n",
    "\n"
   ]
  },
  {
   "cell_type": "code",
   "execution_count": 82,
   "id": "8625cad7",
   "metadata": {},
   "outputs": [
    {
     "data": {
      "text/plain": [
       "array([[1.0149089e-07, 6.3349415e-07, 6.0339520e-09, ..., 2.6946914e-10,\n",
       "        3.0641736e-10, 5.4840448e-11],\n",
       "       [2.0293437e-03, 2.2042659e-06, 9.8975873e-01, ..., 7.5680705e-13,\n",
       "        2.0743535e-13, 2.1974282e-13],\n",
       "       [3.2181635e-09, 9.9999988e-01, 2.7000659e-08, ..., 2.5584899e-18,\n",
       "        2.2338700e-19, 3.2347984e-20],\n",
       "       ...,\n",
       "       [1.5237117e-04, 5.5017023e-07, 4.5968113e-06, ..., 1.0564056e-12,\n",
       "        4.0253188e-13, 7.2543891e-13],\n",
       "       [1.4664482e-06, 9.9984407e-01, 5.4980956e-07, ..., 1.5277429e-13,\n",
       "        2.1695834e-14, 3.1578616e-15],\n",
       "       [3.4316664e-04, 1.6388340e-05, 3.9698672e-04, ..., 2.7926839e-07,\n",
       "        1.4760531e-07, 1.1666713e-07]], dtype=float32)"
      ]
     },
     "execution_count": 82,
     "metadata": {},
     "output_type": "execute_result"
    }
   ],
   "source": []
  },
  {
   "cell_type": "code",
   "execution_count": 89,
   "id": "62d5b22e",
   "metadata": {},
   "outputs": [
    {
     "data": {
      "text/plain": [
       "Text(0.5, 1.0, 'Coat / 3')"
      ]
     },
     "execution_count": 89,
     "metadata": {},
     "output_type": "execute_result"
    },
    {
     "data": {
      "image/png": "[encoded data removed]",
      "text/plain": [
       "<Figure size 1152x1152 with 1 Axes>"
      ]
     },
     "metadata": {
      "needs_background": "light"
     },
     "output_type": "display_data"
    }
   ],
   "source": [
    "plt.figure(figsize=(16,16))\n",
    "j=1\n",
    "for i in np.random.randint(0,1000,25):\n",
    " plt.subplot(5,5,j)\n",
    "j+=1\n",
    "plt.imshow(x_train[i],cmap=\"Greys\")\n",
    "plt.axis('off')\n",
    "plt.title('{} / {}'.format(labels[y_train[i]], y_train[i]))"
   ]
  },
  {
   "cell_type": "code",
   "execution_count": null,
   "id": "b453f400",
   "metadata": {},
   "outputs": [],
   "source": []
  },
  {
   "cell_type": "code",
   "execution_count": null,
   "id": "70d19fa8",
   "metadata": {},
   "outputs": [],
   "source": []
  },
  {
   "cell_type": "code",
   "execution_count": null,
   "id": "a3b0502a",
   "metadata": {},
   "outputs": [],
   "source": []
  },
  {
   "cell_type": "code",
   "execution_count": null,
   "id": "e3d243fc",
   "metadata": {},
   "outputs": [],
   "source": []
  }
 ],
 "metadata": {
  "kernelspec": {
   "display_name": "Python 3 (ipykernel)",
   "language": "python",
   "name": "python3"
  },
  "language_info": {
   "codemirror_mode": {
    "name": "ipython",
    "version": 3
   },
   "file_extension": ".py",
   "mimetype": "text/x-python",
   "name": "python",
   "nbconvert_exporter": "python",
   "pygments_lexer": "ipython3",
   "version": "3.9.12"
  }
 },
 "nbformat": 4,
 "nbformat_minor": 5
}
