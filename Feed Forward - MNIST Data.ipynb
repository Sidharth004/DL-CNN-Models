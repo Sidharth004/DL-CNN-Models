{
 "cells": [
  {
   "cell_type": "code",
   "execution_count": 1,
   "id": "164f5166",
   "metadata": {},
   "outputs": [],
   "source": [
    "#Practise 2 MNIST\n"
   ]
  },
  {
   "cell_type": "code",
   "execution_count": 29,
   "id": "55a5bb37",
   "metadata": {},
   "outputs": [],
   "source": [
    "#IMPORT STUFF\n",
    "import pandas as pd\n",
    "import tensorflow as tf\n",
    "from tensorflow import keras\n",
    "from sklearn.metrics import classification_report,confusion_matrix\n",
    "import matplotlib.pyplot as plt\n",
    "import numpy as np\n"
   ]
  },
  {
   "cell_type": "code",
   "execution_count": 30,
   "id": "20d9e03f",
   "metadata": {},
   "outputs": [],
   "source": [
    "#load model PRELOAD\n",
    "\n",
    "dataset = tf.keras.datasets.mnist\n",
    "(x_train,y_train),(x_test,y_test) = dataset.load_data()\n"
   ]
  },
  {
   "cell_type": "code",
   "execution_count": 31,
   "id": "4ed58e33",
   "metadata": {},
   "outputs": [
    {
     "data": {
      "text/plain": [
       "(60000, 28, 28)"
      ]
     },
     "execution_count": 31,
     "metadata": {},
     "output_type": "execute_result"
    }
   ],
   "source": [
    "#check\n",
    "x_train.shape"
   ]
  },
  {
   "cell_type": "code",
   "execution_count": 32,
   "id": "ddd17db0",
   "metadata": {},
   "outputs": [
    {
     "data": {
      "text/plain": [
       "<matplotlib.image.AxesImage at 0x1c9cae40e80>"
      ]
     },
     "execution_count": 32,
     "metadata": {},
     "output_type": "execute_result"
    },
    {
     "data": {
      "image/png": "[encoded data removed]",
      "text/plain": [
       "<Figure size 432x288 with 1 Axes>"
      ]
     },
     "metadata": {
      "needs_background": "light"
     },
     "output_type": "display_data"
    }
   ],
   "source": [
    "plt.imshow(x_train[0],cmap='Greys')"
   ]
  },
  {
   "cell_type": "code",
   "execution_count": 33,
   "id": "8a501e4e",
   "metadata": {},
   "outputs": [],
   "source": [
    "#normalize the data\n",
    "x_train = x_train/255\n",
    "x_test = x_test/255\n"
   ]
  },
  {
   "cell_type": "code",
   "execution_count": 39,
   "id": "65a049f9",
   "metadata": {},
   "outputs": [],
   "source": [
    "#reshape the data\n",
    "x_train=x_train.reshape(x_train.shape[0],1*28*28)\n"
   ]
  },
  {
   "cell_type": "code",
   "execution_count": 40,
   "id": "36177bf3",
   "metadata": {},
   "outputs": [],
   "source": [
    "x_test=x_test.reshape(x_test.shape[0],1*28*28)"
   ]
  },
  {
   "cell_type": "code",
   "execution_count": 63,
   "id": "da05cfe0",
   "metadata": {},
   "outputs": [
    {
     "data": {
      "text/plain": [
       "(10000, 28, 28)"
      ]
     },
     "execution_count": 63,
     "metadata": {},
     "output_type": "execute_result"
    }
   ],
   "source": [
    "\n",
    "x_test_nonreshape = x_test.reshape(x_test.shape[0],28,28)\n",
    "x_test_nonreshape.shape"
   ]
  },
  {
   "cell_type": "code",
   "execution_count": 41,
   "id": "15dbe09e",
   "metadata": {},
   "outputs": [
    {
     "data": {
      "text/plain": [
       "(60000, 784)"
      ]
     },
     "execution_count": 41,
     "metadata": {},
     "output_type": "execute_result"
    }
   ],
   "source": [
    "x_train.shape\n"
   ]
  },
  {
   "cell_type": "code",
   "execution_count": 42,
   "id": "3cce2944",
   "metadata": {},
   "outputs": [
    {
     "data": {
      "text/plain": [
       "(10000, 784)"
      ]
     },
     "execution_count": 42,
     "metadata": {},
     "output_type": "execute_result"
    }
   ],
   "source": [
    "x_test.shape"
   ]
  },
  {
   "cell_type": "code",
   "execution_count": 46,
   "id": "30547f02",
   "metadata": {},
   "outputs": [],
   "source": [
    "#create the model\n",
    "model = keras.Sequential([\n",
    "    keras.layers.Dense(256,input_shape=(784,),activation='relu'),\n",
    "    keras.layers.Dense(128,activation='relu'),\n",
    "    keras.layers.Dense(64,activation='sigmoid')\n",
    "])"
   ]
  },
  {
   "cell_type": "code",
   "execution_count": 47,
   "id": "87efc6ed",
   "metadata": {},
   "outputs": [],
   "source": [
    "#compile the model\n",
    "\n",
    "model.compile(optimizer='adam',loss='sparse_categorical_crossentropy',metrics=['accuracy'])\n"
   ]
  },
  {
   "cell_type": "code",
   "execution_count": 48,
   "id": "47f1a61b",
   "metadata": {},
   "outputs": [
    {
     "name": "stdout",
     "output_type": "stream",
     "text": [
      "Epoch 1/10\n",
      "1500/1500 [==============================] - 18s 11ms/step - loss: 0.2613 - accuracy: 0.9241 - val_loss: 0.1417 - val_accuracy: 0.9553\n",
      "Epoch 2/10\n",
      "1500/1500 [==============================] - 17s 11ms/step - loss: 0.0997 - accuracy: 0.9693 - val_loss: 0.0995 - val_accuracy: 0.9692\n",
      "Epoch 3/10\n",
      "1500/1500 [==============================] - 18s 12ms/step - loss: 0.0671 - accuracy: 0.9794 - val_loss: 0.1019 - val_accuracy: 0.9718\n",
      "Epoch 4/10\n",
      "1500/1500 [==============================] - 19s 13ms/step - loss: 0.0481 - accuracy: 0.9849 - val_loss: 0.1028 - val_accuracy: 0.9683\n",
      "Epoch 5/10\n",
      "1500/1500 [==============================] - 22s 14ms/step - loss: 0.0398 - accuracy: 0.9863 - val_loss: 0.0929 - val_accuracy: 0.9729\n",
      "Epoch 6/10\n",
      "1500/1500 [==============================] - 20s 13ms/step - loss: 0.0288 - accuracy: 0.9909 - val_loss: 0.0893 - val_accuracy: 0.9753\n",
      "Epoch 7/10\n",
      "1500/1500 [==============================] - 18s 12ms/step - loss: 0.0251 - accuracy: 0.9918 - val_loss: 0.1324 - val_accuracy: 0.9661\n",
      "Epoch 8/10\n",
      "1500/1500 [==============================] - 20s 13ms/step - loss: 0.0219 - accuracy: 0.9930 - val_loss: 0.0960 - val_accuracy: 0.9775\n",
      "Epoch 9/10\n",
      "1500/1500 [==============================] - 18s 12ms/step - loss: 0.0168 - accuracy: 0.9944 - val_loss: 0.1298 - val_accuracy: 0.9719\n",
      "Epoch 10/10\n",
      "1500/1500 [==============================] - 20s 13ms/step - loss: 0.0181 - accuracy: 0.9940 - val_loss: 0.1118 - val_accuracy: 0.9774\n"
     ]
    },
    {
     "data": {
      "text/plain": [
       "<keras.src.callbacks.History at 0x1c9d0b65eb0>"
      ]
     },
     "execution_count": 48,
     "metadata": {},
     "output_type": "execute_result"
    }
   ],
   "source": [
    "#model fitting\n",
    "\n",
    "model.fit(x_train,y_train,validation_split=0.2,epochs=10)"
   ]
  },
  {
   "cell_type": "code",
   "execution_count": 49,
   "id": "49fbc18a",
   "metadata": {},
   "outputs": [
    {
     "name": "stdout",
     "output_type": "stream",
     "text": [
      "313/313 [==============================] - 2s 5ms/step - loss: 0.0994 - accuracy: 0.9790\n"
     ]
    },
    {
     "data": {
      "text/plain": [
       "[0.09935655444860458, 0.9789999723434448]"
      ]
     },
     "execution_count": 49,
     "metadata": {},
     "output_type": "execute_result"
    }
   ],
   "source": [
    "#model evalutae\n",
    "model.evaluate(x_test,y_test)"
   ]
  },
  {
   "cell_type": "code",
   "execution_count": 50,
   "id": "44d90072",
   "metadata": {},
   "outputs": [
    {
     "name": "stdout",
     "output_type": "stream",
     "text": [
      "313/313 [==============================] - 2s 4ms/step\n"
     ]
    }
   ],
   "source": [
    "#model prediction\n",
    "\n",
    "y_pred = model.predict(x_test)"
   ]
  },
  {
   "cell_type": "code",
   "execution_count": 54,
   "id": "8e37b6b2",
   "metadata": {},
   "outputs": [],
   "source": [
    "pred = np.argmax(y_pred,axis=1)"
   ]
  },
  {
   "cell_type": "code",
   "execution_count": 56,
   "id": "e549c634",
   "metadata": {},
   "outputs": [],
   "source": [
    "#confusion matrix and classification report\n",
    "report = classification_report(y_test,pred)"
   ]
  },
  {
   "cell_type": "code",
   "execution_count": 57,
   "id": "1c9b3aa1",
   "metadata": {},
   "outputs": [
    {
     "data": {
      "text/plain": [
       "'              precision    recall  f1-score   support\\n\\n           0       0.99      0.99      0.99       980\\n           1       0.99      0.99      0.99      1135\\n           2       0.95      0.99      0.97      1032\\n           3       0.97      0.97      0.97      1010\\n           4       0.98      0.97      0.98       982\\n           5       0.97      0.97      0.97       892\\n           6       0.98      0.98      0.98       958\\n           7       0.98      0.97      0.98      1028\\n           8       0.98      0.97      0.98       974\\n           9       0.97      0.96      0.97      1009\\n\\n    accuracy                           0.98     10000\\n   macro avg       0.98      0.98      0.98     10000\\nweighted avg       0.98      0.98      0.98     10000\\n'"
      ]
     },
     "execution_count": 57,
     "metadata": {},
     "output_type": "execute_result"
    }
   ],
   "source": [
    "report"
   ]
  },
  {
   "cell_type": "code",
   "execution_count": 58,
   "id": "cb1ea0f4",
   "metadata": {},
   "outputs": [
    {
     "data": {
      "text/plain": [
       "array([[ 974,    1,    0,    0,    0,    1,    1,    0,    2,    1],\n",
       "       [   0, 1122,    6,    0,    0,    2,    4,    0,    1,    0],\n",
       "       [   2,    0, 1024,    0,    0,    0,    2,    3,    1,    0],\n",
       "       [   2,    0,   17,  977,    0,    6,    0,    6,    2,    0],\n",
       "       [   0,    0,    8,    0,  955,    0,    3,    1,    0,   15],\n",
       "       [   2,    0,    0,   16,    1,  867,    2,    0,    3,    1],\n",
       "       [   3,    2,    0,    0,    8,    6,  939,    0,    0,    0],\n",
       "       [   1,    2,   14,    2,    1,    0,    0,  999,    2,    7],\n",
       "       [   2,    0,    7,    5,    1,    8,    3,    3,  943,    2],\n",
       "       [   2,    2,    1,    6,    6,    7,    1,    7,    4,  973]],\n",
       "      dtype=int64)"
      ]
     },
     "execution_count": 58,
     "metadata": {},
     "output_type": "execute_result"
    }
   ],
   "source": [
    "report2 = confusion_matrix(y_test,pred)\n",
    "report2"
   ]
  },
  {
   "cell_type": "code",
   "execution_count": 66,
   "id": "726fb12f",
   "metadata": {},
   "outputs": [
    {
     "name": "stdout",
     "output_type": "stream",
     "text": [
      "313/313 [==============================] - 1s 4ms/step\n",
      "class is : 6\n"
     ]
    },
    {
     "data": {
      "image/png": "[encoded data removed]",
      "text/plain": [
       "<Figure size 432x288 with 1 Axes>"
      ]
     },
     "metadata": {
      "needs_background": "light"
     },
     "output_type": "display_data"
    }
   ],
   "source": [
    "#testing\n",
    "import random \n",
    "\n",
    "r=random.randint(1,100)\n",
    "#we need nonreshaped\n",
    "plt.imshow(x_test_nonreshape[r])\n",
    "\n",
    "ans = model.predict(x_test)\n",
    "print('class is :',np.argmax(ans[r]))"
   ]
  },
  {
   "cell_type": "code",
   "execution_count": null,
   "id": "7da0b54b",
   "metadata": {},
   "outputs": [],
   "source": []
  }
 ],
 "metadata": {
  "kernelspec": {
   "display_name": "Python 3 (ipykernel)",
   "language": "python",
   "name": "python3"
  },
  "language_info": {
   "codemirror_mode": {
    "name": "ipython",
    "version": 3
   },
   "file_extension": ".py",
   "mimetype": "text/x-python",
   "name": "python",
   "nbconvert_exporter": "python",
   "pygments_lexer": "ipython3",
   "version": "3.9.12"
  }
 },
 "nbformat": 4,
 "nbformat_minor": 5
}
