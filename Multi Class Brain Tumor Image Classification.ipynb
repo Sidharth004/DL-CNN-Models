{
 "cells": [
  {
   "cell_type": "code",
   "execution_count": 1,
   "id": "c7a02f01",
   "metadata": {},
   "outputs": [],
   "source": [
    "#Image Classification using BrainTumor Dataset"
   ]
  },
  {
   "cell_type": "code",
   "execution_count": 3,
   "id": "164d16c6",
   "metadata": {},
   "outputs": [],
   "source": [
    "#IMPORT STUFF\n",
    "import tensorflow as tf\n",
    "import pandas as pd\n",
    "import numpy as np \n",
    "import matplotlib.pyplot as plt\n",
    "from keras.preprocessing.image import ImageDataGenerator\n",
    "from keras.preprocessing import image\n",
    "from tensorflow import keras\n",
    "from sklearn.model_selection import train_test_split"
   ]
  },
  {
   "cell_type": "code",
   "execution_count": 5,
   "id": "8545f0c8",
   "metadata": {},
   "outputs": [],
   "source": [
    "#DATAGEN\n",
    "datagen = ImageDataGenerator(\n",
    "    rescale = 1./255,\n",
    "    validation_split=0.2\n",
    ")"
   ]
  },
  {
   "cell_type": "code",
   "execution_count": 31,
   "id": "5dff72d5",
   "metadata": {},
   "outputs": [
    {
     "name": "stdout",
     "output_type": "stream",
     "text": [
      "Found 2870 images belonging to 4 classes.\n"
     ]
    }
   ],
   "source": [
    "#TRAIN GENERATOR\n",
    "train_generator = datagen.flow_from_directory(\n",
    "    r'C:\\Users\\SIDHARTH KUMTHEKAR\\Desktop\\SEM-7\\DL-3\\Brain Tumor\\Training',\n",
    "    target_size=(64,64),\n",
    "    class_mode='categorical',\n",
    "    batch_size=32\n",
    ")"
   ]
  },
  {
   "cell_type": "code",
   "execution_count": 32,
   "id": "0e5adc1e",
   "metadata": {},
   "outputs": [
    {
     "name": "stdout",
     "output_type": "stream",
     "text": [
      "Found 394 images belonging to 4 classes.\n"
     ]
    }
   ],
   "source": [
    "#TEST GENERATOR\n",
    "test_generator = datagen.flow_from_directory(\n",
    "    r'C:\\Users\\SIDHARTH KUMTHEKAR\\Desktop\\SEM-7\\DL-3\\Brain Tumor\\Testing',\n",
    "    target_size=(64,64),\n",
    "    batch_size=32,\n",
    "    class_mode='categorical'\n",
    "    \n",
    ")"
   ]
  },
  {
   "cell_type": "code",
   "execution_count": null,
   "id": "b64b8235",
   "metadata": {},
   "outputs": [],
   "source": []
  },
  {
   "cell_type": "code",
   "execution_count": 13,
   "id": "2f904504",
   "metadata": {},
   "outputs": [],
   "source": [
    "#TRAIN THE MODEL"
   ]
  },
  {
   "cell_type": "code",
   "execution_count": 42,
   "id": "5c1fea3a",
   "metadata": {},
   "outputs": [],
   "source": [
    "model = keras.Sequential([\n",
    "    keras.layers.Conv2D(filters=64,kernel_size=2,strides=(2,2),padding='valid',activation='relu',input_shape=(64,64,3)),\n",
    "    keras.layers.MaxPooling2D((2,2)),\n",
    "    keras.layers.Conv2D(filters=32,kernel_size=2,strides=(2,2),padding='valid',activation='relu'),\n",
    "    keras.layers.MaxPooling2D((2,2)),\n",
    "    keras.layers.Flatten(),\n",
    "    keras.layers.Dense(128,activation='relu'),\n",
    "    keras.layers.Dropout(0.2),\n",
    "    keras.layers.Dense(64,activation='relu'),\n",
    "    keras.layers.Dropout(0.2),\n",
    "    keras.layers.Dense(4,activation='softmax'),\n",
    "])"
   ]
  },
  {
   "cell_type": "code",
   "execution_count": 43,
   "id": "1f40d238",
   "metadata": {},
   "outputs": [
    {
     "name": "stdout",
     "output_type": "stream",
     "text": [
      "Model: \"sequential_5\"\n",
      "_________________________________________________________________\n",
      " Layer (type)                Output Shape              Param #   \n",
      "=================================================================\n",
      " conv2d_11 (Conv2D)          (None, 32, 32, 64)        832       \n",
      "                                                                 \n",
      " max_pooling2d_9 (MaxPoolin  (None, 16, 16, 64)        0         \n",
      " g2D)                                                            \n",
      "                                                                 \n",
      " conv2d_12 (Conv2D)          (None, 8, 8, 32)          8224      \n",
      "                                                                 \n",
      " max_pooling2d_10 (MaxPooli  (None, 4, 4, 32)          0         \n",
      " ng2D)                                                           \n",
      "                                                                 \n",
      " flatten_3 (Flatten)         (None, 512)               0         \n",
      "                                                                 \n",
      " dense_6 (Dense)             (None, 128)               65664     \n",
      "                                                                 \n",
      " dropout_4 (Dropout)         (None, 128)               0         \n",
      "                                                                 \n",
      " dense_7 (Dense)             (None, 64)                8256      \n",
      "                                                                 \n",
      " dropout_5 (Dropout)         (None, 64)                0         \n",
      "                                                                 \n",
      " dense_8 (Dense)             (None, 4)                 260       \n",
      "                                                                 \n",
      "=================================================================\n",
      "Total params: 83236 (325.14 KB)\n",
      "Trainable params: 83236 (325.14 KB)\n",
      "Non-trainable params: 0 (0.00 Byte)\n",
      "_________________________________________________________________\n"
     ]
    }
   ],
   "source": [
    "model.summary()"
   ]
  },
  {
   "cell_type": "code",
   "execution_count": 44,
   "id": "aed4584e",
   "metadata": {},
   "outputs": [],
   "source": [
    "model.compile(optimizer='adam',loss='categorical_crossentropy',metrics=['accuracy'])"
   ]
  },
  {
   "cell_type": "code",
   "execution_count": 45,
   "id": "e193c04b",
   "metadata": {},
   "outputs": [],
   "source": [
    "x_train,y_train =train_generator[0]\n",
    "x_test,y_test = test_generator[0]\n"
   ]
  },
  {
   "cell_type": "code",
   "execution_count": 46,
   "id": "0631ce0b",
   "metadata": {},
   "outputs": [
    {
     "name": "stdout",
     "output_type": "stream",
     "text": [
      "Epoch 1/30\n",
      "1/1 [==============================] - 2s 2s/step - loss: 1.3943 - accuracy: 0.1562\n",
      "Epoch 2/30\n",
      "1/1 [==============================] - 0s 81ms/step - loss: 1.3712 - accuracy: 0.3438\n",
      "Epoch 3/30\n",
      "1/1 [==============================] - 0s 73ms/step - loss: 1.3689 - accuracy: 0.3750\n",
      "Epoch 4/30\n",
      "1/1 [==============================] - 0s 61ms/step - loss: 1.3419 - accuracy: 0.5312\n",
      "Epoch 5/30\n",
      "1/1 [==============================] - 0s 71ms/step - loss: 1.3562 - accuracy: 0.4062\n",
      "Epoch 6/30\n",
      "1/1 [==============================] - 0s 58ms/step - loss: 1.3255 - accuracy: 0.5625\n",
      "Epoch 7/30\n",
      "1/1 [==============================] - 0s 86ms/step - loss: 1.2929 - accuracy: 0.5312\n",
      "Epoch 8/30\n",
      "1/1 [==============================] - 0s 59ms/step - loss: 1.2883 - accuracy: 0.5312\n",
      "Epoch 9/30\n",
      "1/1 [==============================] - 0s 84ms/step - loss: 1.2637 - accuracy: 0.5625\n",
      "Epoch 10/30\n",
      "1/1 [==============================] - 0s 70ms/step - loss: 1.2245 - accuracy: 0.6250\n",
      "Epoch 11/30\n",
      "1/1 [==============================] - 0s 75ms/step - loss: 1.2206 - accuracy: 0.5938\n",
      "Epoch 12/30\n",
      "1/1 [==============================] - 0s 70ms/step - loss: 1.2135 - accuracy: 0.5312\n",
      "Epoch 13/30\n",
      "1/1 [==============================] - 0s 69ms/step - loss: 1.1975 - accuracy: 0.5312\n",
      "Epoch 14/30\n",
      "1/1 [==============================] - 0s 70ms/step - loss: 1.2213 - accuracy: 0.5000\n",
      "Epoch 15/30\n",
      "1/1 [==============================] - 0s 103ms/step - loss: 1.0712 - accuracy: 0.6250\n",
      "Epoch 16/30\n",
      "1/1 [==============================] - 0s 168ms/step - loss: 1.0753 - accuracy: 0.6875\n",
      "Epoch 17/30\n",
      "1/1 [==============================] - 0s 103ms/step - loss: 1.0876 - accuracy: 0.5938\n",
      "Epoch 18/30\n",
      "1/1 [==============================] - 0s 82ms/step - loss: 1.0841 - accuracy: 0.5938\n",
      "Epoch 19/30\n",
      "1/1 [==============================] - 0s 63ms/step - loss: 0.9797 - accuracy: 0.5938\n",
      "Epoch 20/30\n",
      "1/1 [==============================] - 0s 79ms/step - loss: 1.0092 - accuracy: 0.5625\n",
      "Epoch 21/30\n",
      "1/1 [==============================] - 0s 67ms/step - loss: 0.9520 - accuracy: 0.5938\n",
      "Epoch 22/30\n",
      "1/1 [==============================] - 0s 57ms/step - loss: 0.9194 - accuracy: 0.6875\n",
      "Epoch 23/30\n",
      "1/1 [==============================] - 0s 65ms/step - loss: 1.0704 - accuracy: 0.5000\n",
      "Epoch 24/30\n",
      "1/1 [==============================] - 0s 75ms/step - loss: 0.9557 - accuracy: 0.6250\n",
      "Epoch 25/30\n",
      "1/1 [==============================] - 0s 71ms/step - loss: 0.8677 - accuracy: 0.6250\n",
      "Epoch 26/30\n",
      "1/1 [==============================] - 0s 64ms/step - loss: 0.8268 - accuracy: 0.7188\n",
      "Epoch 27/30\n",
      "1/1 [==============================] - 0s 85ms/step - loss: 0.8771 - accuracy: 0.6250\n",
      "Epoch 28/30\n",
      "1/1 [==============================] - 0s 78ms/step - loss: 0.9004 - accuracy: 0.7500\n",
      "Epoch 29/30\n",
      "1/1 [==============================] - 0s 137ms/step - loss: 0.8040 - accuracy: 0.6250\n",
      "Epoch 30/30\n",
      "1/1 [==============================] - 0s 144ms/step - loss: 0.7745 - accuracy: 0.6562\n"
     ]
    },
    {
     "data": {
      "text/plain": [
       "<keras.src.callbacks.History at 0x1ff39cfa580>"
      ]
     },
     "execution_count": 46,
     "metadata": {},
     "output_type": "execute_result"
    }
   ],
   "source": [
    "#fit the model\n",
    "model.fit(x_train,y_train,epochs=30)"
   ]
  },
  {
   "cell_type": "code",
   "execution_count": 49,
   "id": "5e2b08ee",
   "metadata": {},
   "outputs": [
    {
     "name": "stdout",
     "output_type": "stream",
     "text": [
      "1/1 [==============================] - 0s 74ms/step - loss: 4.3645 - accuracy: 0.6875\n"
     ]
    },
    {
     "data": {
      "text/plain": [
       "[4.364465713500977, 0.6875]"
      ]
     },
     "execution_count": 49,
     "metadata": {},
     "output_type": "execute_result"
    }
   ],
   "source": [
    "model.evaluate(x_test,y_test)"
   ]
  },
  {
   "cell_type": "code",
   "execution_count": null,
   "id": "14b3797c",
   "metadata": {},
   "outputs": [],
   "source": [
    "plt.imshow(x_test[1])\n",
    "ans = model,predict(x_test)\n",
    "print('actual value',np.argmax(y_test[1]))\n",
    "print(np.argmax(ans[1 ]))"
   ]
  },
  {
   "cell_type": "code",
   "execution_count": 48,
   "id": "4d86968c",
   "metadata": {},
   "outputs": [
    {
     "name": "stdout",
     "output_type": "stream",
     "text": [
      "Epoch 1/30\n",
      "90/90 [==============================] - 44s 474ms/step - loss: 1.1267 - accuracy: 0.5038 - val_loss: 1.8725 - val_accuracy: 0.2665\n",
      "Epoch 2/30\n",
      "90/90 [==============================] - 23s 251ms/step - loss: 0.9279 - accuracy: 0.5944 - val_loss: 1.8595 - val_accuracy: 0.2589\n",
      "Epoch 3/30\n",
      "90/90 [==============================] - 24s 267ms/step - loss: 0.7717 - accuracy: 0.6557 - val_loss: 1.7906 - val_accuracy: 0.2919\n",
      "Epoch 4/30\n",
      "90/90 [==============================] - 23s 254ms/step - loss: 0.6687 - accuracy: 0.7143 - val_loss: 2.0230 - val_accuracy: 0.3503\n",
      "Epoch 5/30\n",
      "90/90 [==============================] - 23s 256ms/step - loss: 0.5778 - accuracy: 0.7631 - val_loss: 1.9449 - val_accuracy: 0.3959\n",
      "Epoch 6/30\n",
      "90/90 [==============================] - 24s 268ms/step - loss: 0.5450 - accuracy: 0.7672 - val_loss: 1.8277 - val_accuracy: 0.4594\n",
      "Epoch 7/30\n",
      "90/90 [==============================] - 23s 250ms/step - loss: 0.4854 - accuracy: 0.8000 - val_loss: 1.8493 - val_accuracy: 0.4645\n",
      "Epoch 8/30\n",
      "90/90 [==============================] - 24s 270ms/step - loss: 0.4648 - accuracy: 0.8052 - val_loss: 1.9797 - val_accuracy: 0.4518\n",
      "Epoch 9/30\n",
      "90/90 [==============================] - 25s 274ms/step - loss: 0.3883 - accuracy: 0.8425 - val_loss: 1.8254 - val_accuracy: 0.5076\n",
      "Epoch 10/30\n",
      "90/90 [==============================] - 24s 263ms/step - loss: 0.3683 - accuracy: 0.8516 - val_loss: 1.9150 - val_accuracy: 0.5558\n",
      "Epoch 11/30\n",
      "90/90 [==============================] - 25s 273ms/step - loss: 0.3333 - accuracy: 0.8662 - val_loss: 2.0224 - val_accuracy: 0.5533\n",
      "Epoch 12/30\n",
      "90/90 [==============================] - 24s 264ms/step - loss: 0.2936 - accuracy: 0.8857 - val_loss: 2.0050 - val_accuracy: 0.6244\n",
      "Epoch 13/30\n",
      "90/90 [==============================] - 25s 277ms/step - loss: 0.2815 - accuracy: 0.8843 - val_loss: 2.2539 - val_accuracy: 0.6066\n",
      "Epoch 14/30\n",
      "90/90 [==============================] - 25s 281ms/step - loss: 0.2637 - accuracy: 0.8948 - val_loss: 1.9149 - val_accuracy: 0.6447\n",
      "Epoch 15/30\n",
      "90/90 [==============================] - 24s 267ms/step - loss: 0.2197 - accuracy: 0.9136 - val_loss: 2.3474 - val_accuracy: 0.6396\n",
      "Epoch 16/30\n",
      "90/90 [==============================] - 25s 276ms/step - loss: 0.1962 - accuracy: 0.9220 - val_loss: 1.9253 - val_accuracy: 0.6980\n",
      "Epoch 17/30\n",
      "90/90 [==============================] - 24s 264ms/step - loss: 0.1750 - accuracy: 0.9338 - val_loss: 2.2340 - val_accuracy: 0.7056\n",
      "Epoch 18/30\n",
      "90/90 [==============================] - 25s 281ms/step - loss: 0.1381 - accuracy: 0.9460 - val_loss: 2.7688 - val_accuracy: 0.6827\n",
      "Epoch 19/30\n",
      "90/90 [==============================] - 24s 270ms/step - loss: 0.1290 - accuracy: 0.9516 - val_loss: 2.5484 - val_accuracy: 0.7183\n",
      "Epoch 20/30\n",
      "90/90 [==============================] - 24s 261ms/step - loss: 0.1160 - accuracy: 0.9571 - val_loss: 2.9464 - val_accuracy: 0.6701\n",
      "Epoch 21/30\n",
      "90/90 [==============================] - 24s 262ms/step - loss: 0.1007 - accuracy: 0.9652 - val_loss: 3.0249 - val_accuracy: 0.6827\n",
      "Epoch 22/30\n",
      "90/90 [==============================] - 24s 261ms/step - loss: 0.0921 - accuracy: 0.9676 - val_loss: 2.3735 - val_accuracy: 0.7183\n",
      "Epoch 23/30\n",
      "90/90 [==============================] - 26s 286ms/step - loss: 0.0949 - accuracy: 0.9666 - val_loss: 2.4382 - val_accuracy: 0.7157\n",
      "Epoch 24/30\n",
      "90/90 [==============================] - 24s 262ms/step - loss: 0.0765 - accuracy: 0.9728 - val_loss: 2.8568 - val_accuracy: 0.7284\n",
      "Epoch 25/30\n",
      "90/90 [==============================] - 24s 266ms/step - loss: 0.0817 - accuracy: 0.9704 - val_loss: 2.6000 - val_accuracy: 0.7157\n",
      "Epoch 26/30\n",
      "90/90 [==============================] - 26s 286ms/step - loss: 0.0823 - accuracy: 0.9690 - val_loss: 3.6453 - val_accuracy: 0.6675\n",
      "Epoch 27/30\n",
      "90/90 [==============================] - 23s 258ms/step - loss: 0.0758 - accuracy: 0.9756 - val_loss: 2.8286 - val_accuracy: 0.7056\n",
      "Epoch 28/30\n",
      "90/90 [==============================] - 25s 277ms/step - loss: 0.0664 - accuracy: 0.9735 - val_loss: 2.7911 - val_accuracy: 0.7081\n",
      "Epoch 29/30\n",
      "90/90 [==============================] - 24s 268ms/step - loss: 0.0406 - accuracy: 0.9861 - val_loss: 3.4680 - val_accuracy: 0.7259\n",
      "Epoch 30/30\n",
      "90/90 [==============================] - 24s 270ms/step - loss: 0.0378 - accuracy: 0.9875 - val_loss: 3.4588 - val_accuracy: 0.7132\n"
     ]
    },
    {
     "data": {
      "text/plain": [
       "<keras.src.callbacks.History at 0x1ff3bacec40>"
      ]
     },
     "execution_count": 48,
     "metadata": {},
     "output_type": "execute_result"
    }
   ],
   "source": [
    "model.fit(train_generator,validation_data=test_generator,epochs=30)"
   ]
  },
  {
   "cell_type": "code",
   "execution_count": 50,
   "id": "2c6c1208",
   "metadata": {},
   "outputs": [],
   "source": [
    "#train and validation generator training is better\n"
   ]
  },
  {
   "cell_type": "code",
   "execution_count": 73,
   "id": "67a88175",
   "metadata": {},
   "outputs": [
    {
     "name": "stdout",
     "output_type": "stream",
     "text": [
      "1/1 [==============================] - 0s 47ms/step\n",
      "actual class 1\n",
      "predicted class 1\n",
      "1\n"
     ]
    },
    {
     "data": {
      "image/png": "[encoded data removed]",
      "text/plain": [
       "<Figure size 432x288 with 1 Axes>"
      ]
     },
     "metadata": {
      "needs_background": "light"
     },
     "output_type": "display_data"
    }
   ],
   "source": [
    "import random\n",
    "r=random.randint(0,32)\n",
    "\n",
    "plt.imshow(x_test[r])\n",
    "ans = model.predict(x_test)\n",
    "print('actual class', np.argmax(y_test[r]))\n",
    "print('predicted class',np.argmax(ans[r]))\n",
    "classy  = np.argmax(ans[r])\n",
    "print(classy)\n",
    "\n",
    "if(classy==0):\n",
    "    plt.title('giloma_tumor')\n",
    "\n",
    "if(classy==1):\n",
    "    plt.title('meningioma_tumor')\n",
    "\n",
    "if(classy==2):\n",
    "    plt.title('no_tumor')\n",
    "\n",
    "if(classy==3):\n",
    "    plt.title('pituitary tumor')\n"
   ]
  },
  {
   "cell_type": "code",
   "execution_count": null,
   "id": "0202646c",
   "metadata": {},
   "outputs": [],
   "source": []
  },
  {
   "cell_type": "code",
   "execution_count": null,
   "id": "05203dc6",
   "metadata": {},
   "outputs": [],
   "source": []
  },
  {
   "cell_type": "code",
   "execution_count": null,
   "id": "0a086542",
   "metadata": {},
   "outputs": [],
   "source": []
  }
 ],
 "metadata": {
  "kernelspec": {
   "display_name": "Python 3 (ipykernel)",
   "language": "python",
   "name": "python3"
  },
  "language_info": {
   "codemirror_mode": {
    "name": "ipython",
    "version": 3
   },
   "file_extension": ".py",
   "mimetype": "text/x-python",
   "name": "python",
   "nbconvert_exporter": "python",
   "pygments_lexer": "ipython3",
   "version": "3.9.12"
  }
 },
 "nbformat": 4,
 "nbformat_minor": 5
}
