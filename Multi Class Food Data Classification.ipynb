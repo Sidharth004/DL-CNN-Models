{
 "cells": [
  {
   "cell_type": "code",
   "execution_count": 4,
   "id": "78192bac",
   "metadata": {},
   "outputs": [],
   "source": [
    "#IMPORT STUFF\n",
    "import pandas as pd\n",
    "import tensorflow as tf\n",
    "import numpy as np\n",
    "import matplotlib.pyplot as plt\n",
    "from tensorflow import keras\n",
    "from keras.preprocessing.image import ImageDataGenerator"
   ]
  },
  {
   "cell_type": "code",
   "execution_count": 8,
   "id": "0c3e5901",
   "metadata": {},
   "outputs": [],
   "source": [
    "#datagen\n",
    "datagen = ImageDataGenerator(\n",
    "    rescale = 1./255,\n",
    "    validation_split=0.2\n",
    ")"
   ]
  },
  {
   "cell_type": "code",
   "execution_count": 40,
   "id": "4b0245ed",
   "metadata": {},
   "outputs": [
    {
     "name": "stdout",
     "output_type": "stream",
     "text": [
      "Found 4000 images belonging to 4 classes.\n"
     ]
    }
   ],
   "source": [
    "#train and valdiation generator\n",
    "train_generator = datagen.flow_from_directory(\n",
    "    r'C:\\Users\\SIDHARTH KUMTHEKAR\\Desktop\\SEM-7\\DL-6\\food-101\\images\\train',\n",
    "    target_size=(64,64),\n",
    "    batch_size=32,\n",
    "    class_mode='categorical'\n",
    ")"
   ]
  },
  {
   "cell_type": "code",
   "execution_count": 41,
   "id": "b426d0aa",
   "metadata": {},
   "outputs": [
    {
     "name": "stdout",
     "output_type": "stream",
     "text": [
      "Found 2475 images belonging to 4 classes.\n"
     ]
    }
   ],
   "source": [
    "test_generator=datagen.flow_from_directory(\n",
    "    r'C:\\Users\\SIDHARTH KUMTHEKAR\\Desktop\\SEM-7\\DL-6\\food-101\\images\\test',\n",
    "    target_size=(64,64),\n",
    "    batch_size=32,\n",
    "    class_mode='categorical'\n",
    ")"
   ]
  },
  {
   "cell_type": "code",
   "execution_count": 62,
   "id": "66c76fb3",
   "metadata": {},
   "outputs": [],
   "source": [
    "#model design\n",
    "model = keras.Sequential([\n",
    "    keras.layers.Conv2D(filters=64,kernel_size=2,strides=(2,2),activation='relu',input_shape=(64,64,3)),\n",
    "    keras.layers.MaxPooling2D((2,2)),\n",
    "    keras.layers.Conv2D(filters=32,kernel_size=2,strides=(2,2),activation='relu'),\n",
    "    keras.layers.MaxPooling2D((2,2)),\n",
    "    keras.layers.Flatten(),\n",
    "    keras.layers.Dense(64,activation='relu'),\n",
    "    keras.layers.Dropout(0.2),\n",
    "    keras.layers.Dense(32,activation='relu'),\n",
    "    keras.layers.Dropout(0.2),\n",
    "    keras.layers.Dense(4,activation='softmax')\n",
    "])\n"
   ]
  },
  {
   "cell_type": "code",
   "execution_count": 63,
   "id": "4ae837ad",
   "metadata": {},
   "outputs": [
    {
     "name": "stdout",
     "output_type": "stream",
     "text": [
      "Model: \"sequential_12\"\n",
      "_________________________________________________________________\n",
      " Layer (type)                Output Shape              Param #   \n",
      "=================================================================\n",
      " conv2d_30 (Conv2D)          (None, 32, 32, 64)        832       \n",
      "                                                                 \n",
      " max_pooling2d_30 (MaxPooli  (None, 16, 16, 64)        0         \n",
      " ng2D)                                                           \n",
      "                                                                 \n",
      " conv2d_31 (Conv2D)          (None, 8, 8, 32)          8224      \n",
      "                                                                 \n",
      " max_pooling2d_31 (MaxPooli  (None, 4, 4, 32)          0         \n",
      " ng2D)                                                           \n",
      "                                                                 \n",
      " flatten_15 (Flatten)        (None, 512)               0         \n",
      "                                                                 \n",
      " dense_26 (Dense)            (None, 64)                32832     \n",
      "                                                                 \n",
      " dropout_12 (Dropout)        (None, 64)                0         \n",
      "                                                                 \n",
      " dense_27 (Dense)            (None, 32)                2080      \n",
      "                                                                 \n",
      " dropout_13 (Dropout)        (None, 32)                0         \n",
      "                                                                 \n",
      " dense_28 (Dense)            (None, 4)                 132       \n",
      "                                                                 \n",
      "=================================================================\n",
      "Total params: 44100 (172.27 KB)\n",
      "Trainable params: 44100 (172.27 KB)\n",
      "Non-trainable params: 0 (0.00 Byte)\n",
      "_________________________________________________________________\n"
     ]
    }
   ],
   "source": [
    "model.summary()"
   ]
  },
  {
   "cell_type": "code",
   "execution_count": 71,
   "id": "e645fc72",
   "metadata": {},
   "outputs": [],
   "source": [
    "model.compile(optimizer='adam',loss='categorical_crossentropy',metrics=['accuracy'])"
   ]
  },
  {
   "cell_type": "code",
   "execution_count": 72,
   "id": "2d2dbf43",
   "metadata": {},
   "outputs": [],
   "source": [
    "x_train,y_train = train_generator[0]\n",
    "x_test,y_test = test_generator[0]"
   ]
  },
  {
   "cell_type": "code",
   "execution_count": 73,
   "id": "609ca79c",
   "metadata": {},
   "outputs": [
    {
     "name": "stdout",
     "output_type": "stream",
     "text": [
      "Epoch 1/10\n",
      "1/1 [==============================] - 3s 3s/step - loss: 1.3687 - accuracy: 0.2500\n",
      "Epoch 2/10\n",
      "1/1 [==============================] - 0s 65ms/step - loss: 1.3721 - accuracy: 0.2812\n",
      "Epoch 3/10\n",
      "1/1 [==============================] - 0s 65ms/step - loss: 1.3537 - accuracy: 0.3125\n",
      "Epoch 4/10\n",
      "1/1 [==============================] - 0s 63ms/step - loss: 1.3552 - accuracy: 0.2500\n",
      "Epoch 5/10\n",
      "1/1 [==============================] - 0s 65ms/step - loss: 1.3631 - accuracy: 0.2812\n",
      "Epoch 6/10\n",
      "1/1 [==============================] - 0s 72ms/step - loss: 1.3643 - accuracy: 0.3125\n",
      "Epoch 7/10\n",
      "1/1 [==============================] - 0s 66ms/step - loss: 1.3748 - accuracy: 0.2812\n",
      "Epoch 8/10\n",
      "1/1 [==============================] - 0s 68ms/step - loss: 1.3307 - accuracy: 0.3125\n",
      "Epoch 9/10\n",
      "1/1 [==============================] - 0s 65ms/step - loss: 1.3824 - accuracy: 0.2812\n",
      "Epoch 10/10\n",
      "1/1 [==============================] - 0s 65ms/step - loss: 1.3256 - accuracy: 0.2812\n"
     ]
    },
    {
     "data": {
      "text/plain": [
       "<keras.src.callbacks.History at 0x2b0e2083280>"
      ]
     },
     "execution_count": 73,
     "metadata": {},
     "output_type": "execute_result"
    }
   ],
   "source": [
    "model.fit(x_train,y_train,batch_size=64,epochs=10)"
   ]
  },
  {
   "cell_type": "code",
   "execution_count": null,
   "id": "a1846170",
   "metadata": {},
   "outputs": [
    {
     "name": "stdout",
     "output_type": "stream",
     "text": [
      "Epoch 1/10\n",
      "125/125 [==============================] - 233s 2s/step - loss: 1.2891 - accuracy: 0.3598 - val_loss: 1.0558 - val_accuracy: 0.5079\n",
      "Epoch 2/10\n",
      "125/125 [==============================] - 52s 415ms/step - loss: 1.0494 - accuracy: 0.5200 - val_loss: 0.9407 - val_accuracy: 0.5632\n",
      "Epoch 3/10\n",
      "125/125 [==============================] - 53s 422ms/step - loss: 0.9523 - accuracy: 0.5732 - val_loss: 0.7709 - val_accuracy: 0.6671\n",
      "Epoch 4/10\n",
      "125/125 [==============================] - 54s 429ms/step - loss: 0.8872 - accuracy: 0.6145 - val_loss: 0.7676 - val_accuracy: 0.6760\n",
      "Epoch 5/10\n",
      "125/125 [==============================] - 55s 439ms/step - loss: 0.8276 - accuracy: 0.6310 - val_loss: 0.7464 - val_accuracy: 0.6651\n",
      "Epoch 6/10\n",
      "125/125 [==============================] - 57s 456ms/step - loss: 0.7833 - accuracy: 0.6628 - val_loss: 0.6465 - val_accuracy: 0.7354\n",
      "Epoch 7/10\n",
      "125/125 [==============================] - 62s 499ms/step - loss: 0.7577 - accuracy: 0.6710 - val_loss: 0.6159 - val_accuracy: 0.7455\n",
      "Epoch 8/10\n",
      "125/125 [==============================] - 61s 487ms/step - loss: 0.7211 - accuracy: 0.6855 - val_loss: 0.5641 - val_accuracy: 0.7531\n",
      "Epoch 9/10\n",
      "125/125 [==============================] - 59s 475ms/step - loss: 0.7112 - accuracy: 0.6808 - val_loss: 0.5390 - val_accuracy: 0.7705\n",
      "Epoch 10/10\n",
      "125/125 [==============================] - ETA: 0s - loss: 0.6860 - accuracy: 0.7065"
     ]
    }
   ],
   "source": [
    "model.fit(train_generator,validation_data=test_generator,batch_size=64,epochs=10)"
   ]
  },
  {
   "cell_type": "code",
   "execution_count": null,
   "id": "564e2de0",
   "metadata": {},
   "outputs": [],
   "source": [
    "model.evaluate(x_test,y_test)"
   ]
  },
  {
   "cell_type": "code",
   "execution_count": null,
   "id": "6c924ecc",
   "metadata": {},
   "outputs": [],
   "source": [
    "import random\n",
    "r=random.randint(0,64)\n",
    "plt.imshow(x_test[])\n",
    "ans=model.predict(x_test)\n",
    "print('actual class',y_test[])\n",
    "print('predicted class',ans[])"
   ]
  }
 ],
 "metadata": {
  "kernelspec": {
   "display_name": "Python 3 (ipykernel)",
   "language": "python",
   "name": "python3"
  },
  "language_info": {
   "codemirror_mode": {
    "name": "ipython",
    "version": 3
   },
   "file_extension": ".py",
   "mimetype": "text/x-python",
   "name": "python",
   "nbconvert_exporter": "python",
   "pygments_lexer": "ipython3",
   "version": "3.9.12"
  }
 },
 "nbformat": 4,
 "nbformat_minor": 5
}
