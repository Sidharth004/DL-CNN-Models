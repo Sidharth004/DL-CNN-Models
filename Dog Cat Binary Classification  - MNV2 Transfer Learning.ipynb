{
 "cells": [
  {
   "cell_type": "code",
   "execution_count": 2,
   "id": "7fc173f9",
   "metadata": {},
   "outputs": [],
   "source": [
    "#transfer learning \n",
    "#animal dataset\n"
   ]
  },
  {
   "cell_type": "code",
   "execution_count": 1,
   "id": "1c59860a",
   "metadata": {},
   "outputs": [],
   "source": [
    "import tensorflow as tf\n",
    "from tensorflow import keras\n",
    "\n",
    "from tensorflow.keras.models import Model\n",
    "from tensorflow.keras.layers import Dense,Flatten\n",
    "from tensorflow.keras.preprocessing.image import ImageDataGenerator\n",
    "import numpy as np"
   ]
  },
  {
   "cell_type": "code",
   "execution_count": 95,
   "id": "02533505",
   "metadata": {},
   "outputs": [],
   "source": [
    "#preprocessing\n",
    "train_dir =r\"C:\\Users\\SIDHARTH KUMTHEKAR\\Desktop\\SEM-7\\DL-6\\dog_cat\\train\"\n",
    "test_dir = r\"C:\\Users\\SIDHARTH KUMTHEKAR\\Desktop\\SEM-7\\DL-6\\dog_cat\\test\""
   ]
  },
  {
   "cell_type": "code",
   "execution_count": 96,
   "id": "c573c278",
   "metadata": {},
   "outputs": [
    {
     "name": "stdout",
     "output_type": "stream",
     "text": [
      "Found 10422 images belonging to 2 classes.\n"
     ]
    }
   ],
   "source": [
    "datagen = ImageDataGenerator(\n",
    "    rescale = 1./255,\n",
    ")\n",
    "train_generator = datagen.flow_from_directory(\n",
    "    r'C:\\Users\\SIDHARTH KUMTHEKAR\\Desktop\\SEM-7\\DL-6\\dog_cat\\train',\n",
    "    target_size=(64,64),\n",
    "    batch_size=100,\n",
    "    class_mode='binary'\n",
    ")"
   ]
  },
  {
   "cell_type": "code",
   "execution_count": 97,
   "id": "44cb19d9",
   "metadata": {},
   "outputs": [
    {
     "name": "stdout",
     "output_type": "stream",
     "text": [
      "Found 10254 images belonging to 2 classes.\n"
     ]
    }
   ],
   "source": [
    "validation_generator = datagen.flow_from_directory(\n",
    "    r'C:\\Users\\SIDHARTH KUMTHEKAR\\Desktop\\SEM-7\\DL-6\\dog_cat\\test',\n",
    "    target_size=(64,64),\n",
    "    batch_size=100,\n",
    "    class_mode='binary'\n",
    ")"
   ]
  },
  {
   "cell_type": "code",
   "execution_count": 67,
   "id": "5b5cfe1c",
   "metadata": {},
   "outputs": [],
   "source": [
    "#import pretrained model \n"
   ]
  },
  {
   "cell_type": "code",
   "execution_count": 98,
   "id": "f21125b3",
   "metadata": {},
   "outputs": [
    {
     "name": "stdout",
     "output_type": "stream",
     "text": [
      "WARNING:tensorflow:`input_shape` is undefined or non-square, or `rows` is not in [96, 128, 160, 192, 224]. Weights for input shape (224, 224) will be loaded as the default.\n"
     ]
    }
   ],
   "source": [
    "preprocess_input = tf.keras.applications.mobilenet_v2.preprocess_input\n",
    "base_model = tf.keras.applications.MobileNetV2(input_shape=(64,64,3),\n",
    "                                               include_top=False,\n",
    "                                               weights='imagenet')"
   ]
  },
  {
   "cell_type": "code",
   "execution_count": 99,
   "id": "2a98a63f",
   "metadata": {},
   "outputs": [],
   "source": [
    "for layer in base_model.layers:\n",
    "    layer.trainable = False"
   ]
  },
  {
   "cell_type": "code",
   "execution_count": 100,
   "id": "280dfab0",
   "metadata": {},
   "outputs": [],
   "source": [
    "x = Flatten()(base_model.output)\n",
    "x = Dense(256, activation='relu')(x)\n",
    "x = tf.keras.layers.Dropout(0.3)(x)\n",
    "x = Dense(256, activation='relu')(x)\n",
    "x = tf.keras.layers.Dropout(0.3)(x)\n",
    "predictions = Dense(1, activation='sigmoid')(x)\n",
    "\n",
    "# Create the model\n",
    "model = Model(inputs=base_model.input, outputs=predictions)\n",
    "# Compile the model\n",
    "model.compile(optimizer=\"adam\", loss='binary_crossentropy', metrics=['accuracy'])"
   ]
  },
  {
   "cell_type": "code",
   "execution_count": null,
   "id": "00f18276",
   "metadata": {},
   "outputs": [],
   "source": []
  },
  {
   "cell_type": "code",
   "execution_count": 101,
   "id": "41257564",
   "metadata": {},
   "outputs": [],
   "source": [
    "x_train,y_train = train_generator[0]\n",
    "x_test,y_test = validation_generator[0]"
   ]
  },
  {
   "cell_type": "code",
   "execution_count": 102,
   "id": "84032bb5",
   "metadata": {},
   "outputs": [
    {
     "name": "stdout",
     "output_type": "stream",
     "text": [
      "Epoch 1/10\n",
      "2/2 [==============================] - 13s 3s/step - loss: 0.6576 - accuracy: 0.7900 - val_loss: 1.3192e-04 - val_accuracy: 1.0000\n",
      "Epoch 2/10\n",
      "2/2 [==============================] - 1s 787ms/step - loss: 0.3896 - accuracy: 0.9700 - val_loss: 4.9164e-05 - val_accuracy: 1.0000\n",
      "Epoch 3/10\n",
      "2/2 [==============================] - 1s 752ms/step - loss: 0.3018 - accuracy: 0.9700 - val_loss: 9.3178e-05 - val_accuracy: 1.0000\n",
      "Epoch 4/10\n",
      "2/2 [==============================] - 1s 754ms/step - loss: 0.2150 - accuracy: 0.9700 - val_loss: 3.0011e-04 - val_accuracy: 1.0000\n",
      "Epoch 5/10\n",
      "2/2 [==============================] - 1s 786ms/step - loss: 0.1952 - accuracy: 0.9700 - val_loss: 0.0017 - val_accuracy: 1.0000\n",
      "Epoch 6/10\n",
      "2/2 [==============================] - 1s 816ms/step - loss: 0.0785 - accuracy: 0.9700 - val_loss: 0.0102 - val_accuracy: 1.0000\n",
      "Epoch 7/10\n",
      "2/2 [==============================] - 1s 786ms/step - loss: 0.0890 - accuracy: 0.9700 - val_loss: 0.0429 - val_accuracy: 0.9900\n",
      "Epoch 8/10\n",
      "2/2 [==============================] - 1s 853ms/step - loss: 0.0251 - accuracy: 1.0000 - val_loss: 0.0807 - val_accuracy: 0.9700\n",
      "Epoch 9/10\n",
      "2/2 [==============================] - 1s 855ms/step - loss: 0.0610 - accuracy: 0.9700 - val_loss: 0.0412 - val_accuracy: 0.9800\n",
      "Epoch 10/10\n",
      "2/2 [==============================] - 1s 752ms/step - loss: 0.0322 - accuracy: 0.9900 - val_loss: 0.0115 - val_accuracy: 1.0000\n"
     ]
    },
    {
     "data": {
      "text/plain": [
       "<keras.src.callbacks.History at 0x1c511b84940>"
      ]
     },
     "execution_count": 102,
     "metadata": {},
     "output_type": "execute_result"
    }
   ],
   "source": [
    "model.fit(x_train,y_train,batch_size=64,epochs=10,validation_data=(x_test,y_test))"
   ]
  },
  {
   "cell_type": "code",
   "execution_count": 103,
   "id": "14ed7f5b",
   "metadata": {},
   "outputs": [
    {
     "name": "stdout",
     "output_type": "stream",
     "text": [
      "WARNING:tensorflow:`input_shape` is undefined or non-square, or `rows` is not in [96, 128, 160, 192, 224]. Weights for input shape (224, 224) will be loaded as the default.\n"
     ]
    }
   ],
   "source": [
    "base_model=tf.keras.applications.MobileNetV2(weights='imagenet',include_top=False,input_shape=(64,64,3))\n",
    "#freeze al layeres\n",
    "for layers in base_model.layers:\n",
    "    layers.trainable=False\n",
    "    \n",
    "#unfreeze last 4 layers\n",
    "for layers in base_model.layers[len(base_model.layers)-2:]: ##imp handling :\n",
    "    layers.trainable=True"
   ]
  },
  {
   "cell_type": "code",
   "execution_count": 104,
   "id": "632a5196",
   "metadata": {},
   "outputs": [],
   "source": [
    "x = Flatten()(base_model.output)\n",
    "x = Dense(256, activation='relu')(x)\n",
    "x = tf.keras.layers.Dropout(0.3)(x)\n",
    "x = Dense(256, activation='relu')(x)\n",
    "x = tf.keras.layers.Dropout(0.3)(x)\n",
    "predictions = Dense(1, activation='sigmoid')(x)\n"
   ]
  },
  {
   "cell_type": "code",
   "execution_count": 105,
   "id": "2221a18d",
   "metadata": {},
   "outputs": [
    {
     "name": "stdout",
     "output_type": "stream",
     "text": [
      "Epoch 1/10\n",
      "2/2 [==============================] - 13s 3s/step - loss: 0.6414 - accuracy: 0.7400 - val_loss: 3.2283e-05 - val_accuracy: 1.0000\n",
      "Epoch 2/10\n",
      "2/2 [==============================] - 1s 757ms/step - loss: 0.2279 - accuracy: 0.9700 - val_loss: 1.0841e-06 - val_accuracy: 1.0000\n",
      "Epoch 3/10\n",
      "2/2 [==============================] - 1s 787ms/step - loss: 0.2289 - accuracy: 0.9700 - val_loss: 2.9957e-07 - val_accuracy: 1.0000\n",
      "Epoch 4/10\n",
      "2/2 [==============================] - 1s 787ms/step - loss: 0.2727 - accuracy: 0.9700 - val_loss: 2.7802e-07 - val_accuracy: 1.0000\n",
      "Epoch 5/10\n",
      "2/2 [==============================] - 1s 787ms/step - loss: 0.1345 - accuracy: 0.9700 - val_loss: 5.5946e-07 - val_accuracy: 1.0000\n",
      "Epoch 6/10\n",
      "2/2 [==============================] - 1s 878ms/step - loss: 0.0630 - accuracy: 0.9700 - val_loss: 1.3188e-06 - val_accuracy: 1.0000\n",
      "Epoch 7/10\n",
      "2/2 [==============================] - 1s 800ms/step - loss: 0.0630 - accuracy: 0.9800 - val_loss: 3.0922e-06 - val_accuracy: 1.0000\n",
      "Epoch 8/10\n",
      "2/2 [==============================] - 1s 789ms/step - loss: 0.0098 - accuracy: 0.9900 - val_loss: 6.2438e-06 - val_accuracy: 1.0000\n",
      "Epoch 9/10\n",
      "2/2 [==============================] - 1s 896ms/step - loss: 0.0225 - accuracy: 0.9900 - val_loss: 1.1656e-05 - val_accuracy: 1.0000\n",
      "Epoch 10/10\n",
      "2/2 [==============================] - 1s 799ms/step - loss: 0.0045 - accuracy: 1.0000 - val_loss: 1.8769e-05 - val_accuracy: 1.0000\n"
     ]
    },
    {
     "data": {
      "text/plain": [
       "<keras.src.callbacks.History at 0x1c506afd280>"
      ]
     },
     "execution_count": 105,
     "metadata": {},
     "output_type": "execute_result"
    }
   ],
   "source": [
    "model=Model(inputs=base_model.input,outputs=predictions)\n",
    "model.compile(optimizer='adam',loss='binary_crossentropy',metrics=['accuracy'])\n",
    "model.fit(x_train,y_train,batch_size=64,epochs=10,validation_data=(x_test,y_test))"
   ]
  },
  {
   "cell_type": "code",
   "execution_count": 74,
   "id": "0596b36e",
   "metadata": {},
   "outputs": [
    {
     "name": "stdout",
     "output_type": "stream",
     "text": [
      "4/4 [==============================] - 4s 153ms/step\n"
     ]
    }
   ],
   "source": [
    "labels = list(validation_generator.class_indices.keys())\n",
    "predicted_value = model.predict(x_test)"
   ]
  },
  {
   "cell_type": "code",
   "execution_count": 116,
   "id": "616a10dd",
   "metadata": {},
   "outputs": [
    {
     "name": "stdout",
     "output_type": "stream",
     "text": [
      "Preditcted:  0\n",
      "Actual:  0\n"
     ]
    },
    {
     "data": {
      "image/png": "[encoded data removed]",
      "text/plain": [
       "<Figure size 432x288 with 1 Axes>"
      ]
     },
     "metadata": {
      "needs_background": "light"
     },
     "output_type": "display_data"
    }
   ],
   "source": [
    "import matplotlib.pyplot as plt\n",
    "import random\n",
    "\n",
    "r=random.randint(1,64)\n",
    "\n",
    "plt.imshow(x_test[r])\n",
    "print(\"Preditcted: \",np.argmax(predicted_value[r]))\n",
    "print(\"Actual: \", np.argmax(y_test[r]))"
   ]
  },
  {
   "cell_type": "code",
   "execution_count": null,
   "id": "b59b9b2e",
   "metadata": {},
   "outputs": [],
   "source": []
  },
  {
   "cell_type": "code",
   "execution_count": null,
   "id": "39e4ade8",
   "metadata": {},
   "outputs": [],
   "source": []
  },
  {
   "cell_type": "code",
   "execution_count": 32,
   "id": "7ba0ffac",
   "metadata": {},
   "outputs": [
    {
     "name": "stdout",
     "output_type": "stream",
     "text": [
      "Found 0 images belonging to 0 classes.\n",
      "Found 0 images belonging to 0 classes.\n"
     ]
    }
   ],
   "source": [
    "train_datagen = ImageDataGenerator(\n",
    "    rescale= 1./255,\n",
    "    \n",
    ")\n",
    "\n",
    "test_datagen = ImageDataGenerator(\n",
    "    rescale = 1./255,\n",
    "   \n",
    ")\n",
    "\n",
    "#batch size is number of images in each batch\n",
    "\n",
    "train_batch_size = 500,\n",
    "train_generator = train_datagen.flow_from_directory(\n",
    "    \n",
    "    train_dir,\n",
    "    target_size=(32,32),\n",
    "    batch_size=train_batch_size,\n",
    "    class_mode = 'categorical'\n",
    "    \n",
    "\n",
    ")\n",
    "\n",
    "test_batch_size=1000,\n",
    "test_generator = test_datagen.flow_from_directory(\n",
    "    \n",
    "    test_dir,\n",
    "    target_size=(32,32),\n",
    "    batch_size=test_batch_size,\n",
    "    class_mode = 'categorical'\n",
    "\n",
    ")"
   ]
  },
  {
   "cell_type": "code",
   "execution_count": 39,
   "id": "f6678f0d",
   "metadata": {},
   "outputs": [
    {
     "name": "stdout",
     "output_type": "stream",
     "text": [
      "Found 0 images belonging to 0 classes.\n",
      "Found 0 images belonging to 0 classes.\n"
     ]
    }
   ],
   "source": [
    "from tensorflow.keras.preprocessing.image import ImageDataGenerator\n",
    "\n",
    "train_dir = r\"C:\\Users\\SIDHARTH KUMTHEKAR\\Desktop\\SEM-7\\DL-6\\datasets_dog_breed_classification\\train\"\n",
    "test_dir = r\"C:\\Users\\SIDHARTH KUMTHEKAR\\Desktop\\SEM-7\\DL-6\\datasets_dog_breed_classification\\test\"\n",
    "\n",
    "train_datagen = ImageDataGenerator(rescale=1.0/255)\n",
    "test_datagen = ImageDataGenerator(rescale=1.0/255)\n",
    "\n",
    "train_batch_size = 500\n",
    "train_generator = train_datagen.flow_from_directory(\n",
    "    r\"C:/Users/SIDHARTH KUMTHEKAR/Desktop/SEM-7/DL-6/datasets_dog_breed_classification/train\",\n",
    "    target_size=(32, 32),\n",
    "    batch_size=train_batch_size,\n",
    "    class_mode='categorical'\n",
    ")\n",
    "\n",
    "test_batch_size = 1000\n",
    "test_generator = test_datagen.flow_from_directory(\n",
    "    test_dir,\n",
    "    target_size=(32, 32),\n",
    "    batch_size=test_batch_size,\n",
    "    class_mode='categorical'\n",
    ")\n"
   ]
  },
  {
   "cell_type": "raw",
   "id": "194cb41f",
   "metadata": {},
   "source": [
    "train_datagen = ImageDataGenerator(rescale=1.0/255)\n",
    "test_datagen = ImageDataGenerator(rescale=1.0/255)\n",
    "\n",
    "train_batch_size = 500\n",
    "train_generator = train_datagen.flow_from_directory(\n",
    "    r\"C:/Users/SIDHARTH KUMTHEKAR/Desktop/SEM-7/DL-6/datasets_dog_breed_classification/train\",\n",
    "    target_size=(32, 32),\n",
    "    batch_size=train_batch_size,\n",
    "    class_mode='categorical'\n",
    ")\n"
   ]
  },
  {
   "cell_type": "code",
   "execution_count": 42,
   "id": "bd94e0ee",
   "metadata": {},
   "outputs": [],
   "source": [
    "import pathlib"
   ]
  },
  {
   "cell_type": "code",
   "execution_count": 44,
   "id": "95187796",
   "metadata": {},
   "outputs": [
    {
     "name": "stdout",
     "output_type": "stream",
     "text": [
      "Found 0 images belonging to 0 classes.\n"
     ]
    }
   ],
   "source": [
    "#train_dir = r\"C:\\Users\\SIDHARTH KUMTHEKAR\\Desktop\\SEM-7\\DL-6\\datasets_dog_breed_classification\\train\"\n",
    "#test_dir = r\"C:\\Users\\SIDHARTH KUMTHEKAR\\Desktop\\SEM-7\\DL-6\\datasets_dog_breed_classification\\test\"\n",
    "\n",
    "train_datagen = ImageDataGenerator(rescale=1./255)\n",
    "test_datagen = ImageDataGenerator(rescale=1./255)\n",
    "\n",
    "train_batch_size = 500\n",
    "train_generator = train_datagen.flow_from_directory(\n",
    "    r\"C:/Users/SIDHARTH KUMTHEKAR/Desktop/SEM-7/DL-6/datasets_dog_breed_classification/train\",\n",
    "    target_size=(32, 32),\n",
    "    batch_size=train_batch_size,\n",
    "    class_mode='categorical'\n",
    ")\n"
   ]
  },
  {
   "cell_type": "code",
   "execution_count": null,
   "id": "c3f2d2ff",
   "metadata": {},
   "outputs": [],
   "source": []
  }
 ],
 "metadata": {
  "kernelspec": {
   "display_name": "Python 3 (ipykernel)",
   "language": "python",
   "name": "python3"
  },
  "language_info": {
   "codemirror_mode": {
    "name": "ipython",
    "version": 3
   },
   "file_extension": ".py",
   "mimetype": "text/x-python",
   "name": "python",
   "nbconvert_exporter": "python",
   "pygments_lexer": "ipython3",
   "version": "3.9.12"
  }
 },
 "nbformat": 4,
 "nbformat_minor": 5
}
